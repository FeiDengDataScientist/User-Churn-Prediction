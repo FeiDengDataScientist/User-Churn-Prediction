{
 "cells": [
  {
   "cell_type": "markdown",
   "metadata": {},
   "source": [
    "# User Churn Prediction"
   ]
  },
  {
   "cell_type": "markdown",
   "metadata": {},
   "source": [
    "In this project, we use supervised learning models to identify customers who are likely to stop using service in the future. Furthermore, we will analyze top factors that influence user retention.\n",
    "\n",
    "CAUTION--------------------------------------------------------CAUTION\n",
    "\n",
    "CAUTION--------------------------------------------------------CAUTION\n",
    "\n",
    "CAUTION--------------------------------------------------------CAUTION\n",
    "\n",
    "CAUTION--------------------------------------------------------CAUTION\n",
    "\n",
    "CAUTION--------------------------------------------------------CAUTION\n",
    "\n",
    "\n",
    "my version of this project require the imblearn package\n",
    "\n",
    "Package can be installed with Anaconda\n",
    "\n",
    "conda install -c glemaitre imbalanced-learn\n",
    "\n",
    "or PIP\n",
    "\n",
    "pip install -U imbalanced-learn"
   ]
  },
  {
   "cell_type": "markdown",
   "metadata": {},
   "source": [
    "<ul>\n",
    "<li>[Part 1: EDA and Preprocessing](#Part-1:-EDA-and-Preprocessing)\n",
    "<li>[Part 2: Model Training](#Part-2:-Model-Training)\n",
    "<li>[Part 3: Grid Search and Model Evaluation](#Part-3:-Grid-Search-and-Model-Evaluation)\n",
    "<li>[Part 4: Feature Importance Analysis](#Part-4:-Feature-Importance-Analysis)\n",
    "</ul>"
   ]
  },
  {
   "cell_type": "markdown",
   "metadata": {},
   "source": [
    "## EDA and Preprocessing"
   ]
  },
  {
   "cell_type": "code",
   "execution_count": 154,
   "metadata": {
    "collapsed": true
   },
   "outputs": [],
   "source": [
    "import warnings\n",
    "warnings.filterwarnings('ignore')\n",
    "\n",
    "import pandas as pd\n",
    "import numpy as np\n",
    "pd.set_option('display.max_columns', None)\n",
    "\n",
    "churn_df = pd.read_csv('data/churn.all')"
   ]
  },
  {
   "cell_type": "code",
   "execution_count": 155,
   "metadata": {},
   "outputs": [
    {
     "name": "stdout",
     "output_type": "stream",
     "text": [
      "Number of Samples:  5000\n",
      "Number of Columns:  21\n"
     ]
    },
    {
     "data": {
      "text/html": [
       "<div>\n",
       "<style>\n",
       "    .dataframe thead tr:only-child th {\n",
       "        text-align: right;\n",
       "    }\n",
       "\n",
       "    .dataframe thead th {\n",
       "        text-align: left;\n",
       "    }\n",
       "\n",
       "    .dataframe tbody tr th {\n",
       "        vertical-align: top;\n",
       "    }\n",
       "</style>\n",
       "<table border=\"1\" class=\"dataframe\">\n",
       "  <thead>\n",
       "    <tr style=\"text-align: right;\">\n",
       "      <th></th>\n",
       "      <th>state</th>\n",
       "      <th>account_length</th>\n",
       "      <th>area_code</th>\n",
       "      <th>phone_number</th>\n",
       "      <th>intl_plan</th>\n",
       "      <th>voice_mail_plan</th>\n",
       "      <th>number_vmail_messages</th>\n",
       "      <th>total_day_minutes</th>\n",
       "      <th>total_day_calls</th>\n",
       "      <th>total_day_charge</th>\n",
       "      <th>total_eve_minutes</th>\n",
       "      <th>total_eve_calls</th>\n",
       "      <th>total_eve_charge</th>\n",
       "      <th>total_night_minutes</th>\n",
       "      <th>total_night_calls</th>\n",
       "      <th>total_night_charge</th>\n",
       "      <th>total_intl_minutes</th>\n",
       "      <th>total_intl_calls</th>\n",
       "      <th>total_intl_charge</th>\n",
       "      <th>number_customer_service_calls</th>\n",
       "      <th>churned</th>\n",
       "    </tr>\n",
       "  </thead>\n",
       "  <tbody>\n",
       "    <tr>\n",
       "      <th>0</th>\n",
       "      <td>KS</td>\n",
       "      <td>128</td>\n",
       "      <td>415</td>\n",
       "      <td>382-4657</td>\n",
       "      <td>no</td>\n",
       "      <td>yes</td>\n",
       "      <td>25</td>\n",
       "      <td>265.1</td>\n",
       "      <td>110</td>\n",
       "      <td>45.07</td>\n",
       "      <td>197.4</td>\n",
       "      <td>99</td>\n",
       "      <td>16.78</td>\n",
       "      <td>244.7</td>\n",
       "      <td>91</td>\n",
       "      <td>11.01</td>\n",
       "      <td>10.0</td>\n",
       "      <td>3</td>\n",
       "      <td>2.70</td>\n",
       "      <td>1</td>\n",
       "      <td>False.</td>\n",
       "    </tr>\n",
       "    <tr>\n",
       "      <th>1</th>\n",
       "      <td>OH</td>\n",
       "      <td>107</td>\n",
       "      <td>415</td>\n",
       "      <td>371-7191</td>\n",
       "      <td>no</td>\n",
       "      <td>yes</td>\n",
       "      <td>26</td>\n",
       "      <td>161.6</td>\n",
       "      <td>123</td>\n",
       "      <td>27.47</td>\n",
       "      <td>195.5</td>\n",
       "      <td>103</td>\n",
       "      <td>16.62</td>\n",
       "      <td>254.4</td>\n",
       "      <td>103</td>\n",
       "      <td>11.45</td>\n",
       "      <td>13.7</td>\n",
       "      <td>3</td>\n",
       "      <td>3.70</td>\n",
       "      <td>1</td>\n",
       "      <td>False.</td>\n",
       "    </tr>\n",
       "    <tr>\n",
       "      <th>2</th>\n",
       "      <td>NJ</td>\n",
       "      <td>137</td>\n",
       "      <td>415</td>\n",
       "      <td>358-1921</td>\n",
       "      <td>no</td>\n",
       "      <td>no</td>\n",
       "      <td>0</td>\n",
       "      <td>243.4</td>\n",
       "      <td>114</td>\n",
       "      <td>41.38</td>\n",
       "      <td>121.2</td>\n",
       "      <td>110</td>\n",
       "      <td>10.30</td>\n",
       "      <td>162.6</td>\n",
       "      <td>104</td>\n",
       "      <td>7.32</td>\n",
       "      <td>12.2</td>\n",
       "      <td>5</td>\n",
       "      <td>3.29</td>\n",
       "      <td>0</td>\n",
       "      <td>False.</td>\n",
       "    </tr>\n",
       "    <tr>\n",
       "      <th>3</th>\n",
       "      <td>OH</td>\n",
       "      <td>84</td>\n",
       "      <td>408</td>\n",
       "      <td>375-9999</td>\n",
       "      <td>yes</td>\n",
       "      <td>no</td>\n",
       "      <td>0</td>\n",
       "      <td>299.4</td>\n",
       "      <td>71</td>\n",
       "      <td>50.90</td>\n",
       "      <td>61.9</td>\n",
       "      <td>88</td>\n",
       "      <td>5.26</td>\n",
       "      <td>196.9</td>\n",
       "      <td>89</td>\n",
       "      <td>8.86</td>\n",
       "      <td>6.6</td>\n",
       "      <td>7</td>\n",
       "      <td>1.78</td>\n",
       "      <td>2</td>\n",
       "      <td>False.</td>\n",
       "    </tr>\n",
       "    <tr>\n",
       "      <th>4</th>\n",
       "      <td>OK</td>\n",
       "      <td>75</td>\n",
       "      <td>415</td>\n",
       "      <td>330-6626</td>\n",
       "      <td>yes</td>\n",
       "      <td>no</td>\n",
       "      <td>0</td>\n",
       "      <td>166.7</td>\n",
       "      <td>113</td>\n",
       "      <td>28.34</td>\n",
       "      <td>148.3</td>\n",
       "      <td>122</td>\n",
       "      <td>12.61</td>\n",
       "      <td>186.9</td>\n",
       "      <td>121</td>\n",
       "      <td>8.41</td>\n",
       "      <td>10.1</td>\n",
       "      <td>3</td>\n",
       "      <td>2.73</td>\n",
       "      <td>3</td>\n",
       "      <td>False.</td>\n",
       "    </tr>\n",
       "  </tbody>\n",
       "</table>\n",
       "</div>"
      ],
      "text/plain": [
       "  state  account_length  area_code phone_number intl_plan voice_mail_plan  \\\n",
       "0    KS             128        415     382-4657        no             yes   \n",
       "1    OH             107        415     371-7191        no             yes   \n",
       "2    NJ             137        415     358-1921        no              no   \n",
       "3    OH              84        408     375-9999       yes              no   \n",
       "4    OK              75        415     330-6626       yes              no   \n",
       "\n",
       "   number_vmail_messages  total_day_minutes  total_day_calls  \\\n",
       "0                     25              265.1              110   \n",
       "1                     26              161.6              123   \n",
       "2                      0              243.4              114   \n",
       "3                      0              299.4               71   \n",
       "4                      0              166.7              113   \n",
       "\n",
       "   total_day_charge  total_eve_minutes  total_eve_calls  total_eve_charge  \\\n",
       "0             45.07              197.4               99             16.78   \n",
       "1             27.47              195.5              103             16.62   \n",
       "2             41.38              121.2              110             10.30   \n",
       "3             50.90               61.9               88              5.26   \n",
       "4             28.34              148.3              122             12.61   \n",
       "\n",
       "   total_night_minutes  total_night_calls  total_night_charge  \\\n",
       "0                244.7                 91               11.01   \n",
       "1                254.4                103               11.45   \n",
       "2                162.6                104                7.32   \n",
       "3                196.9                 89                8.86   \n",
       "4                186.9                121                8.41   \n",
       "\n",
       "   total_intl_minutes  total_intl_calls  total_intl_charge  \\\n",
       "0                10.0                 3               2.70   \n",
       "1                13.7                 3               3.70   \n",
       "2                12.2                 5               3.29   \n",
       "3                 6.6                 7               1.78   \n",
       "4                10.1                 3               2.73   \n",
       "\n",
       "   number_customer_service_calls  churned  \n",
       "0                              1   False.  \n",
       "1                              1   False.  \n",
       "2                              0   False.  \n",
       "3                              2   False.  \n",
       "4                              3   False.  "
      ]
     },
     "execution_count": 155,
     "metadata": {},
     "output_type": "execute_result"
    }
   ],
   "source": [
    "print 'Number of Samples: ', churn_df.shape[0]\n",
    "print 'Number of Columns: ', churn_df.shape[1]\n",
    "churn_df.head()"
   ]
  },
  {
   "cell_type": "markdown",
   "metadata": {},
   "source": [
    "First, I will analyze the numerical feature."
   ]
  },
  {
   "cell_type": "code",
   "execution_count": 156,
   "metadata": {},
   "outputs": [
    {
     "data": {
      "text/plain": [
       "<matplotlib.axes._subplots.AxesSubplot at 0x7f8adf50f890>"
      ]
     },
     "execution_count": 156,
     "metadata": {},
     "output_type": "execute_result"
    },
    {
     "data": {
      "image/png": "[encoded data removed]",
      "text/plain": [
       "<matplotlib.figure.Figure at 0x7f8ad6bf4b50>"
      ]
     },
     "metadata": {},
     "output_type": "display_data"
    }
   ],
   "source": [
    "%matplotlib inline\n",
    "import matplotlib.pyplot as plt\n",
    "import seaborn as sb\n",
    "\n",
    "corr = churn_df[[\"account_length\", \"number_vmail_messages\", \"total_day_minutes\",\n",
    "                    \"total_day_calls\", \"total_day_charge\", \"total_eve_minutes\",\n",
    "                    \"total_eve_calls\", \"total_eve_charge\", \"total_night_minutes\",\n",
    "                    \"total_night_calls\",\"total_night_charge\", \"total_intl_minutes\", \n",
    "                     \"total_intl_calls\",\"total_intl_charge\"]].corr()\n",
    "\n",
    "sb.heatmap(corr)"
   ]
  },
  {
   "cell_type": "code",
   "execution_count": 157,
   "metadata": {},
   "outputs": [
    {
     "name": "stdout",
     "output_type": "stream",
     "text": [
      "Total day minutes vs charge:  0.999999950983\n",
      "Total eve minutes vs charge:  0.999999774863\n",
      "Total night minutes vs charge:  0.999999207187\n",
      "Total intl minutes vs charge:  0.999992657021\n"
     ]
    }
   ],
   "source": [
    "from scipy.stats import pearsonr\n",
    "\n",
    "day_cor = pearsonr(churn_df['total_day_minutes'], churn_df['total_day_charge'])[0]\n",
    "eve_cor = pearsonr(churn_df['total_eve_minutes'], churn_df['total_eve_charge'])[0]\n",
    "night_cor = pearsonr(churn_df['total_night_minutes'], churn_df['total_night_charge'])[0]\n",
    "intl_cor = pearsonr(churn_df['total_intl_minutes'], churn_df['total_intl_charge'])[0]\n",
    "\n",
    "print 'Total day minutes vs charge: ', day_cor\n",
    "print 'Total eve minutes vs charge: ', eve_cor\n",
    "print 'Total night minutes vs charge: ', night_cor\n",
    "print 'Total intl minutes vs charge: ', intl_cor"
   ]
  },
  {
   "cell_type": "markdown",
   "metadata": {},
   "source": [
    "From the corr plot and the pearson coeffcients, we can observe that \"minutes\" columns has high correlation with \"charge\" columns. This make sence since the number of charge is based on the length of service used. Thus, we may drop all the \"minutes\" columns or all the \"charge\" columns since keeping both of them will not provide extra information. "
   ]
  },
  {
   "cell_type": "code",
   "execution_count": 158,
   "metadata": {
    "scrolled": true
   },
   "outputs": [
    {
     "data": {
      "text/html": [
       "<div>\n",
       "<style>\n",
       "    .dataframe thead tr:only-child th {\n",
       "        text-align: right;\n",
       "    }\n",
       "\n",
       "    .dataframe thead th {\n",
       "        text-align: left;\n",
       "    }\n",
       "\n",
       "    .dataframe tbody tr th {\n",
       "        vertical-align: top;\n",
       "    }\n",
       "</style>\n",
       "<table border=\"1\" class=\"dataframe\">\n",
       "  <thead>\n",
       "    <tr style=\"text-align: right;\">\n",
       "      <th></th>\n",
       "      <th>state</th>\n",
       "      <th>account_length</th>\n",
       "      <th>area_code</th>\n",
       "      <th>phone_number</th>\n",
       "      <th>intl_plan</th>\n",
       "      <th>voice_mail_plan</th>\n",
       "      <th>number_vmail_messages</th>\n",
       "      <th>total_day_minutes</th>\n",
       "      <th>total_day_calls</th>\n",
       "      <th>total_eve_minutes</th>\n",
       "      <th>total_eve_calls</th>\n",
       "      <th>total_night_minutes</th>\n",
       "      <th>total_night_calls</th>\n",
       "      <th>total_intl_minutes</th>\n",
       "      <th>total_intl_calls</th>\n",
       "      <th>number_customer_service_calls</th>\n",
       "      <th>churned</th>\n",
       "    </tr>\n",
       "  </thead>\n",
       "  <tbody>\n",
       "    <tr>\n",
       "      <th>0</th>\n",
       "      <td>KS</td>\n",
       "      <td>128</td>\n",
       "      <td>415</td>\n",
       "      <td>382-4657</td>\n",
       "      <td>no</td>\n",
       "      <td>yes</td>\n",
       "      <td>25</td>\n",
       "      <td>265.1</td>\n",
       "      <td>110</td>\n",
       "      <td>197.4</td>\n",
       "      <td>99</td>\n",
       "      <td>244.7</td>\n",
       "      <td>91</td>\n",
       "      <td>10.0</td>\n",
       "      <td>3</td>\n",
       "      <td>1</td>\n",
       "      <td>False.</td>\n",
       "    </tr>\n",
       "    <tr>\n",
       "      <th>1</th>\n",
       "      <td>OH</td>\n",
       "      <td>107</td>\n",
       "      <td>415</td>\n",
       "      <td>371-7191</td>\n",
       "      <td>no</td>\n",
       "      <td>yes</td>\n",
       "      <td>26</td>\n",
       "      <td>161.6</td>\n",
       "      <td>123</td>\n",
       "      <td>195.5</td>\n",
       "      <td>103</td>\n",
       "      <td>254.4</td>\n",
       "      <td>103</td>\n",
       "      <td>13.7</td>\n",
       "      <td>3</td>\n",
       "      <td>1</td>\n",
       "      <td>False.</td>\n",
       "    </tr>\n",
       "    <tr>\n",
       "      <th>2</th>\n",
       "      <td>NJ</td>\n",
       "      <td>137</td>\n",
       "      <td>415</td>\n",
       "      <td>358-1921</td>\n",
       "      <td>no</td>\n",
       "      <td>no</td>\n",
       "      <td>0</td>\n",
       "      <td>243.4</td>\n",
       "      <td>114</td>\n",
       "      <td>121.2</td>\n",
       "      <td>110</td>\n",
       "      <td>162.6</td>\n",
       "      <td>104</td>\n",
       "      <td>12.2</td>\n",
       "      <td>5</td>\n",
       "      <td>0</td>\n",
       "      <td>False.</td>\n",
       "    </tr>\n",
       "    <tr>\n",
       "      <th>3</th>\n",
       "      <td>OH</td>\n",
       "      <td>84</td>\n",
       "      <td>408</td>\n",
       "      <td>375-9999</td>\n",
       "      <td>yes</td>\n",
       "      <td>no</td>\n",
       "      <td>0</td>\n",
       "      <td>299.4</td>\n",
       "      <td>71</td>\n",
       "      <td>61.9</td>\n",
       "      <td>88</td>\n",
       "      <td>196.9</td>\n",
       "      <td>89</td>\n",
       "      <td>6.6</td>\n",
       "      <td>7</td>\n",
       "      <td>2</td>\n",
       "      <td>False.</td>\n",
       "    </tr>\n",
       "    <tr>\n",
       "      <th>4</th>\n",
       "      <td>OK</td>\n",
       "      <td>75</td>\n",
       "      <td>415</td>\n",
       "      <td>330-6626</td>\n",
       "      <td>yes</td>\n",
       "      <td>no</td>\n",
       "      <td>0</td>\n",
       "      <td>166.7</td>\n",
       "      <td>113</td>\n",
       "      <td>148.3</td>\n",
       "      <td>122</td>\n",
       "      <td>186.9</td>\n",
       "      <td>121</td>\n",
       "      <td>10.1</td>\n",
       "      <td>3</td>\n",
       "      <td>3</td>\n",
       "      <td>False.</td>\n",
       "    </tr>\n",
       "  </tbody>\n",
       "</table>\n",
       "</div>"
      ],
      "text/plain": [
       "  state  account_length  area_code phone_number intl_plan voice_mail_plan  \\\n",
       "0    KS             128        415     382-4657        no             yes   \n",
       "1    OH             107        415     371-7191        no             yes   \n",
       "2    NJ             137        415     358-1921        no              no   \n",
       "3    OH              84        408     375-9999       yes              no   \n",
       "4    OK              75        415     330-6626       yes              no   \n",
       "\n",
       "   number_vmail_messages  total_day_minutes  total_day_calls  \\\n",
       "0                     25              265.1              110   \n",
       "1                     26              161.6              123   \n",
       "2                      0              243.4              114   \n",
       "3                      0              299.4               71   \n",
       "4                      0              166.7              113   \n",
       "\n",
       "   total_eve_minutes  total_eve_calls  total_night_minutes  total_night_calls  \\\n",
       "0              197.4               99                244.7                 91   \n",
       "1              195.5              103                254.4                103   \n",
       "2              121.2              110                162.6                104   \n",
       "3               61.9               88                196.9                 89   \n",
       "4              148.3              122                186.9                121   \n",
       "\n",
       "   total_intl_minutes  total_intl_calls  number_customer_service_calls  \\\n",
       "0                10.0                 3                              1   \n",
       "1                13.7                 3                              1   \n",
       "2                12.2                 5                              0   \n",
       "3                 6.6                 7                              2   \n",
       "4                10.1                 3                              3   \n",
       "\n",
       "   churned  \n",
       "0   False.  \n",
       "1   False.  \n",
       "2   False.  \n",
       "3   False.  \n",
       "4   False.  "
      ]
     },
     "execution_count": 158,
     "metadata": {},
     "output_type": "execute_result"
    }
   ],
   "source": [
    "churn_df.drop(['total_day_charge','total_eve_charge','total_intl_charge','total_night_charge'], axis=1, inplace=True)\n",
    "churn_df.head()"
   ]
  },
  {
   "cell_type": "markdown",
   "metadata": {},
   "source": [
    "#### Homework 1: Can you add catogorical features, e.g. state, into your feature matrix?"
   ]
  },
  {
   "cell_type": "markdown",
   "metadata": {},
   "source": [
    "Now, I will focus on the categorical features. I will first observe the \"state\" and the \"area_code\" columns. I will first convert yes/no and True/False into 1/0."
   ]
  },
  {
   "cell_type": "code",
   "execution_count": 159,
   "metadata": {
    "collapsed": true
   },
   "outputs": [],
   "source": [
    "churn_df['voice_mail_plan'] = churn_df['voice_mail_plan'].map(lambda x: x.strip())\n",
    "churn_df['intl_plan'] = churn_df['intl_plan'].map(lambda x: x.strip())\n",
    "churn_df['churned'] = churn_df['churned'].map(lambda x: x.strip())\n",
    "\n",
    "churn_df['churned'].replace(to_replace='True.',value=1,inplace=True)\n",
    "churn_df['churned'].replace(to_replace='False.',value=0,inplace=True)\n",
    "churn_df['voice_mail_plan'].replace(to_replace='no',value=0,inplace=True)\n",
    "churn_df['voice_mail_plan'].replace(to_replace='yes',value=1,inplace=True)\n",
    "churn_df['intl_plan'].replace(to_replace='no',value=0,inplace=True)\n",
    "churn_df['intl_plan'].replace(to_replace='yes',value=1,inplace=True)"
   ]
  },
  {
   "cell_type": "code",
   "execution_count": 160,
   "metadata": {},
   "outputs": [
    {
     "name": "stdout",
     "output_type": "stream",
     "text": [
      "415    2495\n",
      "408    1259\n",
      "510    1246\n",
      "Name: area_code, dtype: int64\n",
      "WV    158\n",
      "MN    125\n",
      "AL    124\n",
      "ID    119\n",
      "VA    118\n",
      "OH    116\n",
      "TX    116\n",
      "WY    115\n",
      "NY    114\n",
      "OR    114\n",
      "NJ    112\n",
      "UT    112\n",
      "WI    106\n",
      "ME    103\n",
      "MA    103\n",
      "MI    103\n",
      "MD    102\n",
      "VT    101\n",
      "KY     99\n",
      "KS     99\n",
      "CT     99\n",
      "MT     99\n",
      "MS     99\n",
      "RI     99\n",
      "WA     98\n",
      "IN     98\n",
      "CO     96\n",
      "NH     95\n",
      "DE     94\n",
      "MO     93\n",
      "AR     92\n",
      "NM     91\n",
      "SC     91\n",
      "NC     91\n",
      "FL     90\n",
      "NV     90\n",
      "OK     90\n",
      "AZ     89\n",
      "TN     89\n",
      "IL     88\n",
      "DC     88\n",
      "NE     88\n",
      "ND     88\n",
      "HI     86\n",
      "SD     85\n",
      "GA     83\n",
      "LA     82\n",
      "PA     77\n",
      "AK     72\n",
      "IA     69\n",
      "CA     52\n",
      "Name: state, dtype: int64\n"
     ]
    }
   ],
   "source": [
    "print churn_df['area_code'].value_counts()\n",
    "print churn_df['state'].value_counts()"
   ]
  },
  {
   "cell_type": "markdown",
   "metadata": {},
   "source": [
    "CONFUSION: There are only three distinct area codes in this dataset which are 415, 408, and 510. Based on my google result, 415 is corresponding to San Francisco, California. 408 is corresponding to San Jose. 510 is corresponding to Oakland area. All of these area are in CA. So why there are 51 states contain in the dataset? Due to this confusion, I will drop the area_code column, and trust the state column."
   ]
  },
  {
   "cell_type": "code",
   "execution_count": 161,
   "metadata": {},
   "outputs": [
    {
     "data": {
      "text/html": [
       "<div>\n",
       "<style>\n",
       "    .dataframe thead tr:only-child th {\n",
       "        text-align: right;\n",
       "    }\n",
       "\n",
       "    .dataframe thead th {\n",
       "        text-align: left;\n",
       "    }\n",
       "\n",
       "    .dataframe tbody tr th {\n",
       "        vertical-align: top;\n",
       "    }\n",
       "</style>\n",
       "<table border=\"1\" class=\"dataframe\">\n",
       "  <thead>\n",
       "    <tr style=\"text-align: right;\">\n",
       "      <th></th>\n",
       "      <th>state</th>\n",
       "      <th>account_length</th>\n",
       "      <th>phone_number</th>\n",
       "      <th>intl_plan</th>\n",
       "      <th>voice_mail_plan</th>\n",
       "      <th>number_vmail_messages</th>\n",
       "      <th>total_day_minutes</th>\n",
       "      <th>total_day_calls</th>\n",
       "      <th>total_eve_minutes</th>\n",
       "      <th>total_eve_calls</th>\n",
       "      <th>total_night_minutes</th>\n",
       "      <th>total_night_calls</th>\n",
       "      <th>total_intl_minutes</th>\n",
       "      <th>total_intl_calls</th>\n",
       "      <th>number_customer_service_calls</th>\n",
       "      <th>churned</th>\n",
       "    </tr>\n",
       "  </thead>\n",
       "  <tbody>\n",
       "    <tr>\n",
       "      <th>0</th>\n",
       "      <td>KS</td>\n",
       "      <td>128</td>\n",
       "      <td>382-4657</td>\n",
       "      <td>0</td>\n",
       "      <td>1</td>\n",
       "      <td>25</td>\n",
       "      <td>265.1</td>\n",
       "      <td>110</td>\n",
       "      <td>197.4</td>\n",
       "      <td>99</td>\n",
       "      <td>244.7</td>\n",
       "      <td>91</td>\n",
       "      <td>10.0</td>\n",
       "      <td>3</td>\n",
       "      <td>1</td>\n",
       "      <td>0</td>\n",
       "    </tr>\n",
       "    <tr>\n",
       "      <th>1</th>\n",
       "      <td>OH</td>\n",
       "      <td>107</td>\n",
       "      <td>371-7191</td>\n",
       "      <td>0</td>\n",
       "      <td>1</td>\n",
       "      <td>26</td>\n",
       "      <td>161.6</td>\n",
       "      <td>123</td>\n",
       "      <td>195.5</td>\n",
       "      <td>103</td>\n",
       "      <td>254.4</td>\n",
       "      <td>103</td>\n",
       "      <td>13.7</td>\n",
       "      <td>3</td>\n",
       "      <td>1</td>\n",
       "      <td>0</td>\n",
       "    </tr>\n",
       "    <tr>\n",
       "      <th>2</th>\n",
       "      <td>NJ</td>\n",
       "      <td>137</td>\n",
       "      <td>358-1921</td>\n",
       "      <td>0</td>\n",
       "      <td>0</td>\n",
       "      <td>0</td>\n",
       "      <td>243.4</td>\n",
       "      <td>114</td>\n",
       "      <td>121.2</td>\n",
       "      <td>110</td>\n",
       "      <td>162.6</td>\n",
       "      <td>104</td>\n",
       "      <td>12.2</td>\n",
       "      <td>5</td>\n",
       "      <td>0</td>\n",
       "      <td>0</td>\n",
       "    </tr>\n",
       "    <tr>\n",
       "      <th>3</th>\n",
       "      <td>OH</td>\n",
       "      <td>84</td>\n",
       "      <td>375-9999</td>\n",
       "      <td>1</td>\n",
       "      <td>0</td>\n",
       "      <td>0</td>\n",
       "      <td>299.4</td>\n",
       "      <td>71</td>\n",
       "      <td>61.9</td>\n",
       "      <td>88</td>\n",
       "      <td>196.9</td>\n",
       "      <td>89</td>\n",
       "      <td>6.6</td>\n",
       "      <td>7</td>\n",
       "      <td>2</td>\n",
       "      <td>0</td>\n",
       "    </tr>\n",
       "    <tr>\n",
       "      <th>4</th>\n",
       "      <td>OK</td>\n",
       "      <td>75</td>\n",
       "      <td>330-6626</td>\n",
       "      <td>1</td>\n",
       "      <td>0</td>\n",
       "      <td>0</td>\n",
       "      <td>166.7</td>\n",
       "      <td>113</td>\n",
       "      <td>148.3</td>\n",
       "      <td>122</td>\n",
       "      <td>186.9</td>\n",
       "      <td>121</td>\n",
       "      <td>10.1</td>\n",
       "      <td>3</td>\n",
       "      <td>3</td>\n",
       "      <td>0</td>\n",
       "    </tr>\n",
       "  </tbody>\n",
       "</table>\n",
       "</div>"
      ],
      "text/plain": [
       "  state  account_length phone_number  intl_plan  voice_mail_plan  \\\n",
       "0    KS             128     382-4657          0                1   \n",
       "1    OH             107     371-7191          0                1   \n",
       "2    NJ             137     358-1921          0                0   \n",
       "3    OH              84     375-9999          1                0   \n",
       "4    OK              75     330-6626          1                0   \n",
       "\n",
       "   number_vmail_messages  total_day_minutes  total_day_calls  \\\n",
       "0                     25              265.1              110   \n",
       "1                     26              161.6              123   \n",
       "2                      0              243.4              114   \n",
       "3                      0              299.4               71   \n",
       "4                      0              166.7              113   \n",
       "\n",
       "   total_eve_minutes  total_eve_calls  total_night_minutes  total_night_calls  \\\n",
       "0              197.4               99                244.7                 91   \n",
       "1              195.5              103                254.4                103   \n",
       "2              121.2              110                162.6                104   \n",
       "3               61.9               88                196.9                 89   \n",
       "4              148.3              122                186.9                121   \n",
       "\n",
       "   total_intl_minutes  total_intl_calls  number_customer_service_calls  \\\n",
       "0                10.0                 3                              1   \n",
       "1                13.7                 3                              1   \n",
       "2                12.2                 5                              0   \n",
       "3                 6.6                 7                              2   \n",
       "4                10.1                 3                              3   \n",
       "\n",
       "   churned  \n",
       "0        0  \n",
       "1        0  \n",
       "2        0  \n",
       "3        0  \n",
       "4        0  "
      ]
     },
     "execution_count": 161,
     "metadata": {},
     "output_type": "execute_result"
    }
   ],
   "source": [
    "churn_df.drop(['area_code'],axis=1,inplace=True)\n",
    "churn_df.head()"
   ]
  },
  {
   "cell_type": "markdown",
   "metadata": {},
   "source": [
    "Now, let's look at the state column. As observed before, the state column contain 51 distinct states, and all samples are nearly uniformly distributed in these states. One way to embed the state column could be one hot encoding. However, this approach would result 50 more features, and there is a chance of overfitting. I will embed state feature as probability of the user churned in the state. There are two benefit of this embedding. First, I'm not increasing the dimension of the dataset. Second, it makes sense intuitively. If many users in a state churned the service, there is a greater chance for other user to churned the service in the same state."
   ]
  },
  {
   "cell_type": "code",
   "execution_count": 162,
   "metadata": {},
   "outputs": [
    {
     "data": {
      "text/html": [
       "<div>\n",
       "<style>\n",
       "    .dataframe thead tr:only-child th {\n",
       "        text-align: right;\n",
       "    }\n",
       "\n",
       "    .dataframe thead th {\n",
       "        text-align: left;\n",
       "    }\n",
       "\n",
       "    .dataframe tbody tr th {\n",
       "        vertical-align: top;\n",
       "    }\n",
       "</style>\n",
       "<table border=\"1\" class=\"dataframe\">\n",
       "  <thead>\n",
       "    <tr style=\"text-align: right;\">\n",
       "      <th></th>\n",
       "      <th>state</th>\n",
       "      <th>account_length</th>\n",
       "      <th>phone_number</th>\n",
       "      <th>intl_plan</th>\n",
       "      <th>voice_mail_plan</th>\n",
       "      <th>number_vmail_messages</th>\n",
       "      <th>total_day_minutes</th>\n",
       "      <th>total_day_calls</th>\n",
       "      <th>total_eve_minutes</th>\n",
       "      <th>total_eve_calls</th>\n",
       "      <th>total_night_minutes</th>\n",
       "      <th>total_night_calls</th>\n",
       "      <th>total_intl_minutes</th>\n",
       "      <th>total_intl_calls</th>\n",
       "      <th>number_customer_service_calls</th>\n",
       "      <th>churned</th>\n",
       "    </tr>\n",
       "  </thead>\n",
       "  <tbody>\n",
       "    <tr>\n",
       "      <th>0</th>\n",
       "      <td>0.181818</td>\n",
       "      <td>128</td>\n",
       "      <td>382-4657</td>\n",
       "      <td>0</td>\n",
       "      <td>1</td>\n",
       "      <td>25</td>\n",
       "      <td>265.1</td>\n",
       "      <td>110</td>\n",
       "      <td>197.4</td>\n",
       "      <td>99</td>\n",
       "      <td>244.7</td>\n",
       "      <td>91</td>\n",
       "      <td>10.0</td>\n",
       "      <td>3</td>\n",
       "      <td>1</td>\n",
       "      <td>0</td>\n",
       "    </tr>\n",
       "    <tr>\n",
       "      <th>1</th>\n",
       "      <td>0.129310</td>\n",
       "      <td>107</td>\n",
       "      <td>371-7191</td>\n",
       "      <td>0</td>\n",
       "      <td>1</td>\n",
       "      <td>26</td>\n",
       "      <td>161.6</td>\n",
       "      <td>123</td>\n",
       "      <td>195.5</td>\n",
       "      <td>103</td>\n",
       "      <td>254.4</td>\n",
       "      <td>103</td>\n",
       "      <td>13.7</td>\n",
       "      <td>3</td>\n",
       "      <td>1</td>\n",
       "      <td>0</td>\n",
       "    </tr>\n",
       "    <tr>\n",
       "      <th>2</th>\n",
       "      <td>0.250000</td>\n",
       "      <td>137</td>\n",
       "      <td>358-1921</td>\n",
       "      <td>0</td>\n",
       "      <td>0</td>\n",
       "      <td>0</td>\n",
       "      <td>243.4</td>\n",
       "      <td>114</td>\n",
       "      <td>121.2</td>\n",
       "      <td>110</td>\n",
       "      <td>162.6</td>\n",
       "      <td>104</td>\n",
       "      <td>12.2</td>\n",
       "      <td>5</td>\n",
       "      <td>0</td>\n",
       "      <td>0</td>\n",
       "    </tr>\n",
       "    <tr>\n",
       "      <th>3</th>\n",
       "      <td>0.129310</td>\n",
       "      <td>84</td>\n",
       "      <td>375-9999</td>\n",
       "      <td>1</td>\n",
       "      <td>0</td>\n",
       "      <td>0</td>\n",
       "      <td>299.4</td>\n",
       "      <td>71</td>\n",
       "      <td>61.9</td>\n",
       "      <td>88</td>\n",
       "      <td>196.9</td>\n",
       "      <td>89</td>\n",
       "      <td>6.6</td>\n",
       "      <td>7</td>\n",
       "      <td>2</td>\n",
       "      <td>0</td>\n",
       "    </tr>\n",
       "    <tr>\n",
       "      <th>4</th>\n",
       "      <td>0.177778</td>\n",
       "      <td>75</td>\n",
       "      <td>330-6626</td>\n",
       "      <td>1</td>\n",
       "      <td>0</td>\n",
       "      <td>0</td>\n",
       "      <td>166.7</td>\n",
       "      <td>113</td>\n",
       "      <td>148.3</td>\n",
       "      <td>122</td>\n",
       "      <td>186.9</td>\n",
       "      <td>121</td>\n",
       "      <td>10.1</td>\n",
       "      <td>3</td>\n",
       "      <td>3</td>\n",
       "      <td>0</td>\n",
       "    </tr>\n",
       "  </tbody>\n",
       "</table>\n",
       "</div>"
      ],
      "text/plain": [
       "      state  account_length phone_number  intl_plan  voice_mail_plan  \\\n",
       "0  0.181818             128     382-4657          0                1   \n",
       "1  0.129310             107     371-7191          0                1   \n",
       "2  0.250000             137     358-1921          0                0   \n",
       "3  0.129310              84     375-9999          1                0   \n",
       "4  0.177778              75     330-6626          1                0   \n",
       "\n",
       "   number_vmail_messages  total_day_minutes  total_day_calls  \\\n",
       "0                     25              265.1              110   \n",
       "1                     26              161.6              123   \n",
       "2                      0              243.4              114   \n",
       "3                      0              299.4               71   \n",
       "4                      0              166.7              113   \n",
       "\n",
       "   total_eve_minutes  total_eve_calls  total_night_minutes  total_night_calls  \\\n",
       "0              197.4               99                244.7                 91   \n",
       "1              195.5              103                254.4                103   \n",
       "2              121.2              110                162.6                104   \n",
       "3               61.9               88                196.9                 89   \n",
       "4              148.3              122                186.9                121   \n",
       "\n",
       "   total_intl_minutes  total_intl_calls  number_customer_service_calls  \\\n",
       "0                10.0                 3                              1   \n",
       "1                13.7                 3                              1   \n",
       "2                12.2                 5                              0   \n",
       "3                 6.6                 7                              2   \n",
       "4                10.1                 3                              3   \n",
       "\n",
       "   churned  \n",
       "0        0  \n",
       "1        0  \n",
       "2        0  \n",
       "3        0  \n",
       "4        0  "
      ]
     },
     "execution_count": 162,
     "metadata": {},
     "output_type": "execute_result"
    }
   ],
   "source": [
    "distinct_state = churn_df['state'].value_counts()\n",
    "state_map = {}\n",
    "for each_state in list(distinct_state.index):\n",
    "    num_of_true = churn_df[(churn_df['state']==each_state) & (churn_df['churned']==1)].shape[0]\n",
    "    num_of_false = churn_df[(churn_df['state']==each_state) & (churn_df['churned']==0)].shape[0]\n",
    "    state_map[each_state] = num_of_true/float(num_of_true+num_of_false)\n",
    "    \n",
    "for state_name, value in state_map.iteritems():\n",
    "    churn_df['state'].replace(to_replace=state_name, value=value,inplace=True)\n",
    "churn_df.head()"
   ]
  },
  {
   "cell_type": "markdown",
   "metadata": {},
   "source": [
    "I will drop the \"phone_number\" column, since I assume that the phone number was randomly assigned to each user."
   ]
  },
  {
   "cell_type": "code",
   "execution_count": 163,
   "metadata": {},
   "outputs": [
    {
     "data": {
      "text/html": [
       "<div>\n",
       "<style>\n",
       "    .dataframe thead tr:only-child th {\n",
       "        text-align: right;\n",
       "    }\n",
       "\n",
       "    .dataframe thead th {\n",
       "        text-align: left;\n",
       "    }\n",
       "\n",
       "    .dataframe tbody tr th {\n",
       "        vertical-align: top;\n",
       "    }\n",
       "</style>\n",
       "<table border=\"1\" class=\"dataframe\">\n",
       "  <thead>\n",
       "    <tr style=\"text-align: right;\">\n",
       "      <th></th>\n",
       "      <th>state</th>\n",
       "      <th>account_length</th>\n",
       "      <th>intl_plan</th>\n",
       "      <th>voice_mail_plan</th>\n",
       "      <th>number_vmail_messages</th>\n",
       "      <th>total_day_minutes</th>\n",
       "      <th>total_day_calls</th>\n",
       "      <th>total_eve_minutes</th>\n",
       "      <th>total_eve_calls</th>\n",
       "      <th>total_night_minutes</th>\n",
       "      <th>total_night_calls</th>\n",
       "      <th>total_intl_minutes</th>\n",
       "      <th>total_intl_calls</th>\n",
       "      <th>number_customer_service_calls</th>\n",
       "      <th>churned</th>\n",
       "    </tr>\n",
       "  </thead>\n",
       "  <tbody>\n",
       "    <tr>\n",
       "      <th>0</th>\n",
       "      <td>0.181818</td>\n",
       "      <td>128</td>\n",
       "      <td>0</td>\n",
       "      <td>1</td>\n",
       "      <td>25</td>\n",
       "      <td>265.1</td>\n",
       "      <td>110</td>\n",
       "      <td>197.4</td>\n",
       "      <td>99</td>\n",
       "      <td>244.7</td>\n",
       "      <td>91</td>\n",
       "      <td>10.0</td>\n",
       "      <td>3</td>\n",
       "      <td>1</td>\n",
       "      <td>0</td>\n",
       "    </tr>\n",
       "    <tr>\n",
       "      <th>1</th>\n",
       "      <td>0.129310</td>\n",
       "      <td>107</td>\n",
       "      <td>0</td>\n",
       "      <td>1</td>\n",
       "      <td>26</td>\n",
       "      <td>161.6</td>\n",
       "      <td>123</td>\n",
       "      <td>195.5</td>\n",
       "      <td>103</td>\n",
       "      <td>254.4</td>\n",
       "      <td>103</td>\n",
       "      <td>13.7</td>\n",
       "      <td>3</td>\n",
       "      <td>1</td>\n",
       "      <td>0</td>\n",
       "    </tr>\n",
       "    <tr>\n",
       "      <th>2</th>\n",
       "      <td>0.250000</td>\n",
       "      <td>137</td>\n",
       "      <td>0</td>\n",
       "      <td>0</td>\n",
       "      <td>0</td>\n",
       "      <td>243.4</td>\n",
       "      <td>114</td>\n",
       "      <td>121.2</td>\n",
       "      <td>110</td>\n",
       "      <td>162.6</td>\n",
       "      <td>104</td>\n",
       "      <td>12.2</td>\n",
       "      <td>5</td>\n",
       "      <td>0</td>\n",
       "      <td>0</td>\n",
       "    </tr>\n",
       "    <tr>\n",
       "      <th>3</th>\n",
       "      <td>0.129310</td>\n",
       "      <td>84</td>\n",
       "      <td>1</td>\n",
       "      <td>0</td>\n",
       "      <td>0</td>\n",
       "      <td>299.4</td>\n",
       "      <td>71</td>\n",
       "      <td>61.9</td>\n",
       "      <td>88</td>\n",
       "      <td>196.9</td>\n",
       "      <td>89</td>\n",
       "      <td>6.6</td>\n",
       "      <td>7</td>\n",
       "      <td>2</td>\n",
       "      <td>0</td>\n",
       "    </tr>\n",
       "    <tr>\n",
       "      <th>4</th>\n",
       "      <td>0.177778</td>\n",
       "      <td>75</td>\n",
       "      <td>1</td>\n",
       "      <td>0</td>\n",
       "      <td>0</td>\n",
       "      <td>166.7</td>\n",
       "      <td>113</td>\n",
       "      <td>148.3</td>\n",
       "      <td>122</td>\n",
       "      <td>186.9</td>\n",
       "      <td>121</td>\n",
       "      <td>10.1</td>\n",
       "      <td>3</td>\n",
       "      <td>3</td>\n",
       "      <td>0</td>\n",
       "    </tr>\n",
       "  </tbody>\n",
       "</table>\n",
       "</div>"
      ],
      "text/plain": [
       "      state  account_length  intl_plan  voice_mail_plan  \\\n",
       "0  0.181818             128          0                1   \n",
       "1  0.129310             107          0                1   \n",
       "2  0.250000             137          0                0   \n",
       "3  0.129310              84          1                0   \n",
       "4  0.177778              75          1                0   \n",
       "\n",
       "   number_vmail_messages  total_day_minutes  total_day_calls  \\\n",
       "0                     25              265.1              110   \n",
       "1                     26              161.6              123   \n",
       "2                      0              243.4              114   \n",
       "3                      0              299.4               71   \n",
       "4                      0              166.7              113   \n",
       "\n",
       "   total_eve_minutes  total_eve_calls  total_night_minutes  total_night_calls  \\\n",
       "0              197.4               99                244.7                 91   \n",
       "1              195.5              103                254.4                103   \n",
       "2              121.2              110                162.6                104   \n",
       "3               61.9               88                196.9                 89   \n",
       "4              148.3              122                186.9                121   \n",
       "\n",
       "   total_intl_minutes  total_intl_calls  number_customer_service_calls  \\\n",
       "0                10.0                 3                              1   \n",
       "1                13.7                 3                              1   \n",
       "2                12.2                 5                              0   \n",
       "3                 6.6                 7                              2   \n",
       "4                10.1                 3                              3   \n",
       "\n",
       "   churned  \n",
       "0        0  \n",
       "1        0  \n",
       "2        0  \n",
       "3        0  \n",
       "4        0  "
      ]
     },
     "execution_count": 163,
     "metadata": {},
     "output_type": "execute_result"
    }
   ],
   "source": [
    "churn_df.drop(['phone_number'], axis=1, inplace=True)\n",
    "churn_df.head()"
   ]
  },
  {
   "cell_type": "markdown",
   "metadata": {},
   "source": [
    "Let's look at the remaining two features which are 'intl_plan' and 'voice_mail_plan'"
   ]
  },
  {
   "cell_type": "code",
   "execution_count": 164,
   "metadata": {},
   "outputs": [
    {
     "name": "stdout",
     "output_type": "stream",
     "text": [
      "Correlation between voice_mail_plan and chruned is : -0.110698256336\n",
      "Correlation between intl_plan and chruned is : 0.259122645464\n"
     ]
    }
   ],
   "source": [
    "print 'Correlation between voice_mail_plan and chruned is :',pearsonr(churn_df['voice_mail_plan'], churn_df['churned'])[0]\n",
    "print 'Correlation between intl_plan and chruned is :',pearsonr(churn_df['intl_plan'], churn_df['churned'])[0]"
   ]
  },
  {
   "cell_type": "code",
   "execution_count": 165,
   "metadata": {},
   "outputs": [
    {
     "data": {
      "image/png": "[encoded data removed]",
      "text/plain": [
       "<matplotlib.figure.Figure at 0x7f8ade1e4490>"
      ]
     },
     "metadata": {},
     "output_type": "display_data"
    },
    {
     "data": {
      "image/png": "[encoded data removed]",
      "text/plain": [
       "<matplotlib.figure.Figure at 0x7f8ad7c99e90>"
      ]
     },
     "metadata": {},
     "output_type": "display_data"
    }
   ],
   "source": [
    "from sklearn.metrics import confusion_matrix\n",
    "con_matrix_intl = confusion_matrix(churn_df['churned'],churn_df['intl_plan'])\n",
    "ax1 = plt.axes()\n",
    "sb.heatmap(con_matrix_intl, ax = ax1)\n",
    "ax1.set_title('intl_plan vs. chruned')\n",
    "ax1.set_xlabel('intl_plan')\n",
    "ax1.set_ylabel('chruned')\n",
    "plt.show()\n",
    "con_matrix_voice = confusion_matrix(churn_df['churned'],churn_df['voice_mail_plan'])\n",
    "ax2 = plt.axes()\n",
    "sb.heatmap(con_matrix_voice, ax = ax2)\n",
    "ax2.set_title('voice_mail_plan vs. chruned')\n",
    "ax2.set_xlabel('voice_mail_plan')\n",
    "ax2.set_ylabel('chruned')\n",
    "plt.show()"
   ]
  },
  {
   "cell_type": "markdown",
   "metadata": {},
   "source": [
    "Based on the Pearson Coefficient and the confusion matrix plot, both of these features have low correlation with the 'churned' column. I will keep these two features as 1/0 embedding for my classifier."
   ]
  },
  {
   "cell_type": "markdown",
   "metadata": {},
   "source": [
    "Now I finished my feature exploration."
   ]
  },
  {
   "cell_type": "markdown",
   "metadata": {},
   "source": [
    "Is there any missing value in the dataset?"
   ]
  },
  {
   "cell_type": "code",
   "execution_count": 166,
   "metadata": {},
   "outputs": [
    {
     "name": "stdout",
     "output_type": "stream",
     "text": [
      "Number of sample before dropna:  5000\n",
      "Number of sample after dropna:  5000\n"
     ]
    }
   ],
   "source": [
    "print \"Number of sample before dropna: \",churn_df.shape[0]\n",
    "churn_df.dropna(inplace = True)\n",
    "print \"Number of sample after dropna: \",churn_df.shape[0]"
   ]
  },
  {
   "cell_type": "markdown",
   "metadata": {},
   "source": [
    "There is no row with missing value. Let's check if the dataset is balanced."
   ]
  },
  {
   "cell_type": "code",
   "execution_count": 167,
   "metadata": {},
   "outputs": [
    {
     "data": {
      "text/plain": [
       "0    4293\n",
       "1     707\n",
       "Name: churned, dtype: int64"
      ]
     },
     "execution_count": 167,
     "metadata": {},
     "output_type": "execute_result"
    }
   ],
   "source": [
    "churn_df['churned'].value_counts()"
   ]
  },
  {
   "cell_type": "markdown",
   "metadata": {},
   "source": [
    "I will balance the dataset using over-sampling, since this is a small dataset. One way to do the over-sampling is to put copys of the sample from the minority class into the dataset. This approach could cause overfitting. I will use SMOTE algorithm to perform the over-sampling on the training samples. SMOTE algorithm will generate samples based on KNN, and the sample generated will be more generalize. Moreover, it is important to use SMOTE only for training samples, not for cross validation samples. The synthetic samples should never be used to validate the model."
   ]
  },
  {
   "cell_type": "code",
   "execution_count": 168,
   "metadata": {},
   "outputs": [
    {
     "name": "stdout",
     "output_type": "stream",
     "text": [
      "Number of samples : 5000\n",
      "Number of features : 14\n"
     ]
    }
   ],
   "source": [
    "print 'Number of samples :',churn_df.shape[0]\n",
    "print 'Number of features :',churn_df.shape[1]-1"
   ]
  },
  {
   "cell_type": "markdown",
   "metadata": {},
   "source": [
    "# Part 2: Model Training"
   ]
  },
  {
   "cell_type": "code",
   "execution_count": 169,
   "metadata": {
    "collapsed": true
   },
   "outputs": [],
   "source": [
    "y = np.asarray(churn_df['churned'])\n",
    "X = np.asarray(churn_df.drop(['churned'],axis=1))"
   ]
  },
  {
   "cell_type": "code",
   "execution_count": 170,
   "metadata": {},
   "outputs": [
    {
     "name": "stdout",
     "output_type": "stream",
     "text": [
      "Feature space holds 5000 observations and 14 features\n",
      "Unique target labels: [0 1]\n"
     ]
    }
   ],
   "source": [
    "# Scale the data\n",
    "from sklearn.preprocessing import StandardScaler\n",
    "scaler = StandardScaler()\n",
    "X = scaler.fit_transform(X)\n",
    "\n",
    "print \"Feature space holds %d observations and %d features\" % X.shape\n",
    "print \"Unique target labels:\", np.unique(y)"
   ]
  },
  {
   "cell_type": "code",
   "execution_count": 171,
   "metadata": {},
   "outputs": [],
   "source": [
    "from sklearn.cross_validation import KFold\n",
    "from imblearn.over_sampling import SMOTE\n",
    "\n",
    "#This program does 5-fold. It saves the result at each time as different parts of y_pred. \n",
    "#In the end, it returns the y_pred as the result of all the five 5-fold.\n",
    "def run_cv(X,y,clf_class,enable_SMOTE=False,**kwargs):\n",
    "    # Construct a kfolds object\n",
    "    kf = KFold(len(y),n_folds=5,shuffle=True)\n",
    "    y_pred = y.copy()\n",
    "    clf = clf_class(**kwargs)\n",
    "    # Iterate through folds\n",
    "    for train_index, test_index in kf:\n",
    "        X_train, X_test = X[train_index], X[test_index]\n",
    "        y_train = y[train_index]\n",
    "        \n",
    "        if enable_SMOTE:\n",
    "            #Apply SMOTE to over-sample the training set in order to have a balanced training set\n",
    "            sm=SMOTE(random_state=42)\n",
    "            X_res, y_res = sm.fit_sample(X_train, y_train)\n",
    "\n",
    "            #The SMOTE function in imblearn API only allows numerical input, but I embeded three\n",
    "            #categorical features into the dataset which are 'state', 'intl_plan', and 'voice_mail_plan'\n",
    "            #The 'state' feature was converted into a probability, so it is a numerical now.\n",
    "            #the 'intl_plan' and the 'voice_mail_plan' should be rounded after SMOTE\n",
    "            X_res[:,1] = np.round(X_res[:,1]) #round the 'intl_plan'\n",
    "            X_res[:,2] = np.round(X_res[:,2]) #round the 'voice_mail_plan'\n",
    "            X_train, y_train = X_res, y_res\n",
    "            \n",
    "        clf.fit(X_train,y_train)\n",
    "        y_pred[test_index] = clf.predict(X_test)\n",
    "    return y_pred"
   ]
  },
  {
   "cell_type": "code",
   "execution_count": 172,
   "metadata": {},
   "outputs": [
    {
     "name": "stdout",
     "output_type": "stream",
     "text": [
      "Result with SMOTE enable\n",
      "Logistic Regression (L2 is default): 0.805\n",
      "Random forest: 0.9362\n",
      "K-nearest-neighbors: 0.8146\n"
     ]
    }
   ],
   "source": [
    "from sklearn.ensemble import RandomForestClassifier\n",
    "from sklearn.neighbors import KNeighborsClassifier \n",
    "from sklearn.linear_model import LogisticRegression\n",
    "\n",
    "def accuracy(y_true,y_pred):\n",
    "    return np.mean(y_true == y_pred) # NumPy interpretes True and False as 1. and 0.\n",
    "\n",
    "LR_CV_result_SMOTE_on = run_cv(X,y,LogisticRegression,enable_SMOTE=True)\n",
    "RF_CV_result_SMOTE_on = run_cv(X,y,RandomForestClassifier,enable_SMOTE=True)\n",
    "KNN_CV_result_SMOTE_on = run_cv(X,y,KNeighborsClassifier,enable_SMOTE=True) #Default: n_neighbors=5\n",
    "\n",
    "print \"Result with SMOTE enable\"\n",
    "print \"Logistic Regression (L2 is default): \" + str(accuracy(y, LR_CV_result_SMOTE_on))\n",
    "print \"Random forest: \" + str(accuracy(y, RF_CV_result_SMOTE_on))\n",
    "print \"K-nearest-neighbors: \" + str(accuracy(y, KNN_CV_result_SMOTE_on))"
   ]
  },
  {
   "cell_type": "code",
   "execution_count": 173,
   "metadata": {},
   "outputs": [
    {
     "name": "stdout",
     "output_type": "stream",
     "text": [
      "Result with SMOTE disable\n",
      "Logistic Regression (L2 is default): 0.8658\n",
      "Random forest: 0.9362\n",
      "K-nearest-neighbors: 0.8918\n"
     ]
    }
   ],
   "source": [
    "LR_CV_result = run_cv(X,y,LogisticRegression)\n",
    "RF_CV_result = run_cv(X,y,RandomForestClassifier)\n",
    "KNN_CV_result = run_cv(X,y,KNeighborsClassifier) #Default: n_neighbors=5\n",
    "\n",
    "print \"Result with SMOTE disable\"\n",
    "print \"Logistic Regression (L2 is default): \" + str(accuracy(y, LR_CV_result))\n",
    "print \"Random forest: \" + str(accuracy(y, RF_CV_result))\n",
    "print \"K-nearest-neighbors: \" + str(accuracy(y, KNN_CV_result))"
   ]
  },
  {
   "cell_type": "markdown",
   "metadata": {},
   "source": [
    "The performance is getting worse when the SMOTE is enabled. However, I cannot conclude that over-sampling the training set is a bad approach at this point. First, all three model was using default hyper-pamater. I will fine-tune the hyper-parameter to further evalute the models and over-sampling approach. Second, since the dataset is unbalance, the performance should be evaluated with matrices other than accuracy."
   ]
  },
  {
   "cell_type": "markdown",
   "metadata": {},
   "source": [
    "#### Homework 2: Can you do prediction with SVM model?"
   ]
  },
  {
   "cell_type": "markdown",
   "metadata": {},
   "source": [
    "First, let's apply Linear SVM. Then, I will test performance using kernal trick."
   ]
  },
  {
   "cell_type": "code",
   "execution_count": 174,
   "metadata": {},
   "outputs": [
    {
     "name": "stdout",
     "output_type": "stream",
     "text": [
      "Result with SMOTE enable : 0.8016\n",
      "Result with SMOTE disable : 0.8674\n"
     ]
    }
   ],
   "source": [
    "from sklearn.svm import LinearSVC\n",
    "\n",
    "\n",
    "SVC_CV_result_SMOTE_on = run_cv(X,y,LinearSVC,enable_SMOTE=True)\n",
    "print \"Result with SMOTE enable : \" + str(accuracy(y, SVC_CV_result_SMOTE_on))\n",
    "SVC_CV_result = run_cv(X,y,LinearSVC)\n",
    "print \"Result with SMOTE disable : \" + str(accuracy(y, SVC_CV_result))"
   ]
  },
  {
   "cell_type": "code",
   "execution_count": 175,
   "metadata": {},
   "outputs": [
    {
     "name": "stdout",
     "output_type": "stream",
     "text": [
      "Result with SMOTE enable : 0.9126\n",
      "Result with SMOTE disable : 0.9228\n"
     ]
    }
   ],
   "source": [
    "#Using SVM with rbf kernal\n",
    "from sklearn.svm import SVC\n",
    "\n",
    "SVC_kernal_result_SMOTE_on = run_cv(X,y,SVC,enable_SMOTE = True)\n",
    "print \"Result with SMOTE enable : \" + str(accuracy(y, SVC_kernal_result_SMOTE_on))\n",
    "SVC_kernal_result = run_cv(X,y,SVC,enable_SMOTE = False)\n",
    "print \"Result with SMOTE disable : \" + str(accuracy(y, SVC_kernal_result))\n"
   ]
  },
  {
   "cell_type": "markdown",
   "metadata": {
    "collapsed": true
   },
   "source": [
    "# Part 3: Grid Search and Model Evaluation"
   ]
  },
  {
   "cell_type": "markdown",
   "metadata": {},
   "source": [
    "First, let's select few classifier from all the classifier we used before."
   ]
  },
  {
   "cell_type": "code",
   "execution_count": 176,
   "metadata": {},
   "outputs": [
    {
     "name": "stdout",
     "output_type": "stream",
     "text": [
      "Result with SMOTE enable\n",
      "Logistic Regression (L2 is default): 0.805\n",
      "Random forest: 0.9362\n",
      "K-nearest-neighbors: 0.8146\n",
      "Linear SVM: 0.8016\n",
      "SVM with rbf kernal: 0.9126\n"
     ]
    }
   ],
   "source": [
    "print \"Result with SMOTE enable\"\n",
    "print \"Logistic Regression (L2 is default): \" + str(accuracy(y, LR_CV_result_SMOTE_on))\n",
    "print \"Random forest: \" + str(accuracy(y, RF_CV_result_SMOTE_on))\n",
    "print \"K-nearest-neighbors: \" + str(accuracy(y, KNN_CV_result_SMOTE_on))\n",
    "print \"Linear SVM: \" + str(accuracy(y, SVC_CV_result_SMOTE_on))\n",
    "print \"SVM with rbf kernal: \" + str(accuracy(y, SVC_kernal_result_SMOTE_on))"
   ]
  },
  {
   "cell_type": "code",
   "execution_count": 177,
   "metadata": {},
   "outputs": [
    {
     "name": "stdout",
     "output_type": "stream",
     "text": [
      "Result with SMOTE disable\n",
      "Logistic Regression (L2 is default): 0.8658\n",
      "Random forest: 0.9362\n",
      "K-nearest-neighbors: 0.8918\n",
      "Linear SVM : 0.8674\n",
      "SVM with rbf kernal : 0.9228\n"
     ]
    }
   ],
   "source": [
    "print \"Result with SMOTE disable\"\n",
    "print \"Logistic Regression (L2 is default): \" + str(accuracy(y, LR_CV_result))\n",
    "print \"Random forest: \" + str(accuracy(y, RF_CV_result))\n",
    "print \"K-nearest-neighbors: \" + str(accuracy(y, KNN_CV_result))\n",
    "print \"Linear SVM : \" + str(accuracy(y, SVC_CV_result))\n",
    "print \"SVM with rbf kernal : \" + str(accuracy(y, SVC_kernal_result))"
   ]
  },
  {
   "cell_type": "markdown",
   "metadata": {},
   "source": [
    "I will use grid search to fine-tune the hyper-parameter for Random forest, K-nearest-neighbors, and SVM with rbf kernal, since they have the best performance from last section."
   ]
  },
  {
   "cell_type": "code",
   "execution_count": 178,
   "metadata": {
    "collapsed": true
   },
   "outputs": [],
   "source": [
    "def print_grid_search_metrics(gs):\n",
    "    print \"Best score: %0.3f\" % gs.best_score_\n",
    "    print \"Best parameters set:\"\n",
    "    best_parameters = gs.best_params_\n",
    "    for param_name in sorted(best_parameters.keys()):\n",
    "        print(\"\\t%s: %r\" % (param_name, best_parameters[param_name]))"
   ]
  },
  {
   "cell_type": "markdown",
   "metadata": {},
   "source": [
    "### Random Forest"
   ]
  },
  {
   "cell_type": "code",
   "execution_count": 179,
   "metadata": {},
   "outputs": [
    {
     "name": "stdout",
     "output_type": "stream",
     "text": [
      "Fitting 5 folds for each of 96 candidates, totalling 480 fits\n"
     ]
    },
    {
     "name": "stderr",
     "output_type": "stream",
     "text": [
      "[Parallel(n_jobs=-1)]: Done  26 tasks      | elapsed:    1.1s\n",
      "[Parallel(n_jobs=-1)]: Done 176 tasks      | elapsed:    6.3s\n",
      "[Parallel(n_jobs=-1)]: Done 426 tasks      | elapsed:   18.4s\n",
      "[Parallel(n_jobs=-1)]: Done 480 out of 480 | elapsed:   22.1s finished\n"
     ]
    },
    {
     "data": {
      "text/plain": [
       "GridSearchCV(cv=5, error_score='raise',\n",
       "       estimator=RandomForestClassifier(bootstrap=True, class_weight=None, criterion='gini',\n",
       "            max_depth=None, max_features='auto', max_leaf_nodes=None,\n",
       "            min_impurity_decrease=0.0, min_impurity_split=None,\n",
       "            min_samples_leaf=1, min_samples_split=2,\n",
       "            min_weight_fraction_leaf=0.0, n_estimators=10, n_jobs=-1,\n",
       "            oob_score=False, random_state=None, verbose=0,\n",
       "            warm_start=False),\n",
       "       fit_params={}, iid=True, n_jobs=-1,\n",
       "       param_grid={'n_estimators': (10, 30, 50, 100), 'max_features': (0.2, 0.3, 0.5, 0.8), 'max_depth': (1, 2, 5, 8, 10, 12)},\n",
       "       pre_dispatch='2*n_jobs', refit=True, scoring=None, verbose=1)"
      ]
     },
     "execution_count": 179,
     "metadata": {},
     "output_type": "execute_result"
    }
   ],
   "source": [
    "#Random Forest\n",
    "from sklearn.grid_search import GridSearchCV\n",
    "RF_parameters = {\n",
    "    'n_estimators':(10,30,50,100), \n",
    "    'max_depth':(1,2,5,8,10,12),\n",
    "    'max_features':(0.2,0.3,0.5,0.8)\n",
    "}\n",
    "Random_Forest_Grid_LR = GridSearchCV(RandomForestClassifier(n_jobs=-1),RF_parameters, cv=5, verbose=1,n_jobs=-1)\n",
    "Random_Forest_Grid_LR.fit(X, y)"
   ]
  },
  {
   "cell_type": "code",
   "execution_count": 180,
   "metadata": {},
   "outputs": [
    {
     "name": "stdout",
     "output_type": "stream",
     "text": [
      "Best score: 0.957\n",
      "Best parameters set:\n",
      "\tmax_depth: 12\n",
      "\tmax_features: 0.5\n",
      "\tn_estimators: 30\n"
     ]
    }
   ],
   "source": [
    "print_grid_search_metrics(Random_Forest_Grid_LR)"
   ]
  },
  {
   "cell_type": "markdown",
   "metadata": {},
   "source": [
    "### K-Nearest-Neighbors"
   ]
  },
  {
   "cell_type": "code",
   "execution_count": 181,
   "metadata": {},
   "outputs": [
    {
     "name": "stdout",
     "output_type": "stream",
     "text": [
      "Fitting 5 folds for each of 14 candidates, totalling 70 fits\n"
     ]
    },
    {
     "name": "stderr",
     "output_type": "stream",
     "text": [
      "[Parallel(n_jobs=-1)]: Done  26 tasks      | elapsed:    1.0s\n",
      "[Parallel(n_jobs=-1)]: Done  70 out of  70 | elapsed:    2.5s finished\n"
     ]
    },
    {
     "data": {
      "text/plain": [
       "GridSearchCV(cv=5, error_score='raise',\n",
       "       estimator=KNeighborsClassifier(algorithm='auto', leaf_size=30, metric='minkowski',\n",
       "           metric_params=None, n_jobs=-1, n_neighbors=5, p=2,\n",
       "           weights='uniform'),\n",
       "       fit_params={}, iid=True, n_jobs=-1,\n",
       "       param_grid={'n_neighbors': (3, 5, 8, 10, 20, 50, 100), 'p': (1, 2)},\n",
       "       pre_dispatch='2*n_jobs', refit=True, scoring=None, verbose=1)"
      ]
     },
     "execution_count": 181,
     "metadata": {},
     "output_type": "execute_result"
    }
   ],
   "source": [
    "#K-Nearest-Neighbors\n",
    "KNN_parameters = {\n",
    "    'n_neighbors':(3,5,8,10,20,50,100),\n",
    "    'p':(1,2)\n",
    "}\n",
    "KNN_Grid_LR = GridSearchCV(KNeighborsClassifier(n_jobs=-1),KNN_parameters, cv=5, verbose=1,n_jobs=-1)\n",
    "KNN_Grid_LR.fit(X, y)"
   ]
  },
  {
   "cell_type": "code",
   "execution_count": 182,
   "metadata": {},
   "outputs": [
    {
     "name": "stdout",
     "output_type": "stream",
     "text": [
      "Best score: 0.890\n",
      "Best parameters set:\n",
      "\tn_neighbors: 5\n",
      "\tp: 2\n"
     ]
    }
   ],
   "source": [
    "print_grid_search_metrics(KNN_Grid_LR)"
   ]
  },
  {
   "cell_type": "markdown",
   "metadata": {},
   "source": [
    "### SVC with rbf Kernal"
   ]
  },
  {
   "cell_type": "code",
   "execution_count": 183,
   "metadata": {},
   "outputs": [
    {
     "name": "stdout",
     "output_type": "stream",
     "text": [
      "Fitting 5 folds for each of 20 candidates, totalling 100 fits\n"
     ]
    },
    {
     "name": "stderr",
     "output_type": "stream",
     "text": [
      "[Parallel(n_jobs=-1)]: Done  26 tasks      | elapsed:    3.0s\n",
      "[Parallel(n_jobs=-1)]: Done 100 out of 100 | elapsed:   10.3s finished\n"
     ]
    },
    {
     "data": {
      "text/plain": [
       "GridSearchCV(cv=5, error_score='raise',\n",
       "       estimator=SVC(C=1.0, cache_size=200, class_weight=None, coef0=0.0,\n",
       "  decision_function_shape='ovr', degree=3, gamma='auto', kernel='rbf',\n",
       "  max_iter=-1, probability=False, random_state=None, shrinking=True,\n",
       "  tol=0.001, verbose=False),\n",
       "       fit_params={}, iid=True, n_jobs=-1,\n",
       "       param_grid={'C': (1, 10, 100, 1000, 10000), 'gamma': (0.1, 1, 10, 100)},\n",
       "       pre_dispatch='2*n_jobs', refit=True, scoring=None, verbose=1)"
      ]
     },
     "execution_count": 183,
     "metadata": {},
     "output_type": "execute_result"
    }
   ],
   "source": [
    "#SVM with kernal\n",
    "SVC_parameters = {\n",
    "    'C':(1,10,100,1000,10000),\n",
    "    'gamma':(0.1,1,10,100)\n",
    "}\n",
    "SVC_Grid_LR = GridSearchCV(SVC(),SVC_parameters, cv=5, verbose=1,n_jobs=-1)\n",
    "SVC_Grid_LR.fit(X, y)"
   ]
  },
  {
   "cell_type": "code",
   "execution_count": 184,
   "metadata": {},
   "outputs": [
    {
     "name": "stdout",
     "output_type": "stream",
     "text": [
      "Best score: 0.926\n",
      "Best parameters set:\n",
      "\tC: 10\n",
      "\tgamma: 0.1\n"
     ]
    }
   ],
   "source": [
    "print_grid_search_metrics(SVC_Grid_LR)"
   ]
  },
  {
   "cell_type": "markdown",
   "metadata": {},
   "source": [
    "### Calculate Confusion Matrix (Precision, Recall, Accuracy)"
   ]
  },
  {
   "cell_type": "code",
   "execution_count": 185,
   "metadata": {
    "collapsed": true
   },
   "outputs": [],
   "source": [
    "from sklearn.metrics import confusion_matrix\n",
    "from sklearn.metrics import precision_score\n",
    "from sklearn.metrics import recall_score\n",
    "\n",
    "def cal_evaluation(classifier, cm):\n",
    "    tn = cm[0][0]\n",
    "    fp = cm[0][1]\n",
    "    fn = cm[1][0]\n",
    "    tp = cm[1][1]\n",
    "    accuracy  = (tp + tn) / (tp + fp + fn + tn + 0.0)\n",
    "    precision = tp / (tp + fp + 0.0)\n",
    "    recall = tp / (tp + fn + 0.0)\n",
    "    print classifier\n",
    "    print \"Accuracy is \" + str(accuracy)\n",
    "    print \"Precision is \" + str(precision)\n",
    "    print \"Recall is \" + str(recall)\n",
    "\n",
    "def draw_confusion_matrices(confusion_matricies,class_names):\n",
    "    class_names = ['Not','Churn']\n",
    "    for cm in confusion_matrices:\n",
    "        classifier, cm = cm[0], cm[1]\n",
    "        cal_evaluation(classifier, cm)\n",
    "        fig = plt.figure()\n",
    "        ax = fig.add_subplot(111)\n",
    "        cax = ax.matshow(cm, interpolation='nearest',cmap=plt.get_cmap('Reds'))\n",
    "        plt.title('Confusion matrix for %s' % classifier)\n",
    "        fig.colorbar(cax)\n",
    "        ax.set_xticklabels([''] + class_names)\n",
    "        ax.set_yticklabels([''] + class_names)\n",
    "        plt.xlabel('Predicted')\n",
    "        plt.ylabel('True')\n",
    "        plt.show()"
   ]
  },
  {
   "cell_type": "code",
   "execution_count": 186,
   "metadata": {
    "collapsed": true
   },
   "outputs": [],
   "source": [
    "y_RF = Random_Forest_Grid_LR.predict(X)\n",
    "y_KNN = KNN_Grid_LR.predict(X)\n",
    "y_SVC = SVC_Grid_LR.predict(X)"
   ]
  },
  {
   "cell_type": "code",
   "execution_count": 187,
   "metadata": {},
   "outputs": [
    {
     "name": "stdout",
     "output_type": "stream",
     "text": [
      "[0 1]\n",
      "Random Forest\n",
      "Accuracy is 0.9836\n",
      "Precision is 1.0\n",
      "Recall is 0.884016973126\n"
     ]
    },
    {
     "data": {
      "image/png": "[encoded data removed]",
      "text/plain": [
       "<matplotlib.figure.Figure at 0x7f8adf448d50>"
      ]
     },
     "metadata": {},
     "output_type": "display_data"
    },
    {
     "name": "stdout",
     "output_type": "stream",
     "text": [
      "K-Nearest-Neighbors\n",
      "Accuracy is 0.924\n",
      "Precision is 0.922480620155\n",
      "Recall is 0.50495049505\n"
     ]
    },
    {
     "data": {
      "image/png": "[encoded data removed]",
      "text/plain": [
       "<matplotlib.figure.Figure at 0x7f8ade23d150>"
      ]
     },
     "metadata": {},
     "output_type": "display_data"
    },
    {
     "name": "stdout",
     "output_type": "stream",
     "text": [
      "SVC with rbf kernal\n",
      "Accuracy is 0.989\n",
      "Precision is 0.996951219512\n",
      "Recall is 0.925035360679\n"
     ]
    },
    {
     "data": {
      "image/png": "[encoded data removed]",
      "text/plain": [
       "<matplotlib.figure.Figure at 0x7f8acb608450>"
      ]
     },
     "metadata": {},
     "output_type": "display_data"
    }
   ],
   "source": [
    "%matplotlib inline\n",
    "\n",
    "y = np.array(y)\n",
    "class_names = np.unique(y)\n",
    "print class_names\n",
    "\n",
    "confusion_matrices = [\n",
    "    (\"Random Forest\", confusion_matrix(y,y_RF)),\n",
    "    (\"K-Nearest-Neighbors\", confusion_matrix(y,y_KNN)),\n",
    "    (\"SVC with rbf kernal\", confusion_matrix(y,y_SVC))\n",
    "]\n",
    "\n",
    "draw_confusion_matrices(confusion_matrices,class_names)"
   ]
  },
  {
   "cell_type": "markdown",
   "metadata": {},
   "source": [
    "Both Random Forest and SVC with rbf kernal has good performance compare to K-Nearest-Neighbors. Let's dive into model interpolation for Random Forest and SVC. "
   ]
  },
  {
   "cell_type": "markdown",
   "metadata": {},
   "source": [
    "# Part 4: Feature Importance Analysis"
   ]
  },
  {
   "cell_type": "markdown",
   "metadata": {},
   "source": [
    "## Random Forest"
   ]
  },
  {
   "cell_type": "markdown",
   "metadata": {},
   "source": [
    "The random forest model api in sklearn has build in Feature importances method. If a feature is important, it will show up on the top level of many decision tree in the random forest model. In order to use the feature_importance method, I have to train a Random Forest model using the best hyper-parameter from GridSearch."
   ]
  },
  {
   "cell_type": "code",
   "execution_count": 188,
   "metadata": {
    "collapsed": true
   },
   "outputs": [],
   "source": [
    "#run_cv modified:\n",
    "#The reason I need to have a modified version of run_cv is that \n",
    "#I need a function which return the model itself instead of the y_pred\n",
    "\n",
    "#This program does 5-fold. It saves the result at each time as different parts of y_pred. \n",
    "#In the end, it returns the y_pred as the result of all the five 5-fold.\n",
    "def run_cv_modified(X,y,clf_class,enable_SMOTE=False,**kwargs):\n",
    "    # Construct a kfolds object\n",
    "    kf = KFold(len(y),n_folds=5,shuffle=True)\n",
    "    y_pred = y.copy()\n",
    "    clf = clf_class(**kwargs)\n",
    "    # Iterate through folds\n",
    "    for train_index, test_index in kf:\n",
    "        X_train, X_test = X[train_index], X[test_index]\n",
    "        y_train = y[train_index]\n",
    "        \n",
    "        if enable_SMOTE:\n",
    "            #Apply SMOTE to over-sample the training set in order to have a balanced training set\n",
    "            sm=SMOTE(random_state=42)\n",
    "            X_res, y_res = sm.fit_sample(X_train, y_train)\n",
    "\n",
    "            #The SMOTE function in imblearn API only allows numerical input, but I embeded three\n",
    "            #categorical features into the dataset which are 'state', 'intl_plan', and 'voice_mail_plan'\n",
    "            #The 'state' feature was converted into a probability, so it is a numerical now.\n",
    "            #the 'intl_plan' and the 'voice_mail_plan' should be rounded after SMOTE\n",
    "            X_res[:,1] = np.round(X_res[:,1]) #round the 'intl_plan'\n",
    "            X_res[:,2] = np.round(X_res[:,2]) #round the 'voice_mail_plan'\n",
    "            X_train, y_train = X_res, y_res\n",
    "            \n",
    "        clf.fit(X_train,y_train)\n",
    "    return clf"
   ]
  },
  {
   "cell_type": "markdown",
   "metadata": {},
   "source": [
    "### Build in Feature Importance mathod"
   ]
  },
  {
   "cell_type": "code",
   "execution_count": 189,
   "metadata": {},
   "outputs": [
    {
     "name": "stdout",
     "output_type": "stream",
     "text": [
      "{'max_features': 0.5, 'n_estimators': 30, 'max_depth': 12}\n",
      "Accuracy :  0.9812\n",
      "Precision :  0.9904\n",
      "Recall :  0.875530410184\n"
     ]
    }
   ],
   "source": [
    "best_parameter = Random_Forest_Grid_LR.best_params_\n",
    "print best_parameter\n",
    "for key,val in best_parameter.items():\n",
    "        exec(key + '=val')\n",
    "#The grid search for Random Forest returns the best value for 'max_features', 'n_estimators', and 'max_depth'\n",
    "RF_classifier = run_cv_modified(X,y,RandomForestClassifier,enable_SMOTE=False,max_features=max_features,n_estimators=n_estimators,max_depth=max_depth)\n",
    "y_pred_RF = RF_classifier.predict(X)\n",
    "print 'Accuracy : ' ,accuracy(y, y_pred_RF)\n",
    "print 'Precision : ',precision_score(y,y_pred_RF)\n",
    "print 'Recall : ' ,recall_score(y,y_pred_RF)"
   ]
  },
  {
   "cell_type": "code",
   "execution_count": 190,
   "metadata": {},
   "outputs": [],
   "source": [
    "importance = RF_classifier.feature_importances_\n",
    "column_name = churn_df.drop('churned',axis=1).columns\n"
   ]
  },
  {
   "cell_type": "code",
   "execution_count": 191,
   "metadata": {},
   "outputs": [
    {
     "data": {
      "image/png": "[encoded data removed]",
      "text/plain": [
       "<matplotlib.figure.Figure at 0x7f8addf3c410>"
      ]
     },
     "metadata": {},
     "output_type": "display_data"
    }
   ],
   "source": [
    "plt.figure(figsize=(20,10))\n",
    "plt.title('Feature Importance for Random Forest Model',fontsize=25)\n",
    "plt.bar(column_name,importance)\n",
    "plt.xticks(rotation=90,fontsize=25)\n",
    "plt.show()"
   ]
  },
  {
   "cell_type": "markdown",
   "metadata": {},
   "source": [
    "From the bar chart above the top 3 most important features are 'total_day_minutes', 'number_customer_service_call', and 'total_eve_minutes'. We can verify this using another feature importance analysis approach."
   ]
  },
  {
   "cell_type": "markdown",
   "metadata": {},
   "source": [
    "### Analysis Feature Importance using Surrogate Model"
   ]
  },
  {
   "cell_type": "markdown",
   "metadata": {},
   "source": [
    "The idea of surrogate model is using a simple, interpretable model to approximate the complex model. I will simply train a decision tree to fit on the output of the random forest. The purpose of this approach is that I'm trying to approximate the random forest, instead of the target function. Thus, the decision tree need to fit on the output of the random forest instead of the ground truth.\n",
    "\n",
    "Surrogate Model: https://en.wikipedia.org/wiki/Surrogate_model"
   ]
  },
  {
   "cell_type": "code",
   "execution_count": 192,
   "metadata": {},
   "outputs": [
    {
     "data": {
      "image/png": "[encoded data removed]",
      "text/plain": [
       "<matplotlib.figure.Figure at 0x7f8ad6b12250>"
      ]
     },
     "metadata": {},
     "output_type": "display_data"
    }
   ],
   "source": [
    "from sklearn.tree import DecisionTreeClassifier\n",
    "Surrogate_Model = run_cv_modified(X,y_pred_RF,RandomForestClassifier,enable_SMOTE=False)\n",
    "importance = Surrogate_Model.feature_importances_\n",
    "plt.figure(figsize=(20,10))\n",
    "plt.title('Feature Importance for Surrogate Model Model',fontsize=25)\n",
    "plt.bar(column_name,importance)\n",
    "plt.xticks(rotation=90,fontsize=25)\n",
    "plt.show()"
   ]
  },
  {
   "cell_type": "markdown",
   "metadata": {},
   "source": [
    "The surrogate model give the same result as the build in feature importance mathod. We can conclude that the top 3 most important features are 'total_day_minutes', 'number_customer_service_call', and 'total_eve_minutes'."
   ]
  },
  {
   "cell_type": "markdown",
   "metadata": {},
   "source": [
    "## SVC with rbf Kernal"
   ]
  },
  {
   "cell_type": "code",
   "execution_count": 193,
   "metadata": {},
   "outputs": [
    {
     "name": "stdout",
     "output_type": "stream",
     "text": [
      "{'C': 10, 'gamma': 0.1}\n",
      "Accuracy :  0.9774\n",
      "Precision :  0.961180124224\n",
      "Recall :  0.875530410184\n"
     ]
    }
   ],
   "source": [
    "best_parameter = SVC_Grid_LR.best_params_\n",
    "print best_parameter\n",
    "for key,val in best_parameter.items():\n",
    "        exec(key + '=val')\n",
    "\n",
    "#The grid search for SVC returns the best value for 'C' and 'gamma'\n",
    "SVC_kernal_classifier = run_cv_modified(X,y,SVC,enable_SMOTE=False,C=C,gamma=gamma)\n",
    "y_pred_SVC = SVC_kernal_classifier.predict(X)\n",
    "print 'Accuracy : ' ,accuracy(y, y_pred_SVC)\n",
    "print 'Precision : ',precision_score(y,y_pred_SVC)\n",
    "print 'Recall : ' ,recall_score(y,y_pred_SVC)"
   ]
  },
  {
   "cell_type": "markdown",
   "metadata": {},
   "source": [
    "The feature importance measure for SVC with rbf kernal is not trivial. I will measure feature importance using feature ablation. The idea of feature ablation is remove each feature and retrain the model one at the time, and obeserve the performance reduction by removing each feature. However, the performance is not clearly defined in this project. Thus, I will define the performance as accuracy, since the SVC model is trying to maximize the accuracy."
   ]
  },
  {
   "cell_type": "code",
   "execution_count": 194,
   "metadata": {},
   "outputs": [
    {
     "name": "stdout",
     "output_type": "stream",
     "text": [
      "0.9774\n",
      "Accuracy Reduced by:  0.0004\n",
      "Accuracy Reduced by:  0.0028\n",
      "Accuracy Reduced by:  0.0156\n",
      "Accuracy Reduced by:  -0.0008\n",
      "Accuracy Reduced by:  -0.0022\n",
      "Accuracy Reduced by:  0.041\n",
      "Accuracy Reduced by:  0.0024\n",
      "Accuracy Reduced by:  0.016\n",
      "Accuracy Reduced by:  0.0024\n",
      "Accuracy Reduced by:  0.0058\n",
      "Accuracy Reduced by:  0.0008\n",
      "Accuracy Reduced by:  0.0098\n",
      "Accuracy Reduced by:  0.0056\n",
      "Accuracy Reduced by:  0.0204\n"
     ]
    },
    {
     "data": {
      "image/png": "[encoded data removed]",
      "text/plain": [
       "<matplotlib.figure.Figure at 0x7f8ad6af99d0>"
      ]
     },
     "metadata": {},
     "output_type": "display_data"
    }
   ],
   "source": [
    "def feature_ablation(X,y,C,gamma,benchmark):\n",
    "    acc = []\n",
    "    for i in range(X.shape[1]):\n",
    "        X_temp = np.delete(X, i, 1)\n",
    "        SVC_temp = run_cv_modified(X_temp,y,SVC,enable_SMOTE=False,C=C,gamma=gamma)\n",
    "        y_pred_SVC = SVC_temp.predict(X_temp)\n",
    "        acc.append(benchmark - accuracy(y, y_pred_SVC))\n",
    "        print 'Accuracy Reduced by: ' ,acc[-1]\n",
    "    return acc\n",
    "benchmark = accuracy(y, y_pred_SVC)\n",
    "print benchmark\n",
    "acc_reduced = feature_ablation(X,y,C,gamma,benchmark)\n",
    "plt.figure(figsize=(20,10))\n",
    "plt.title('Feature Importance for Feature Ablation',fontsize=25)\n",
    "plt.bar(column_name,acc_reduced)\n",
    "plt.xticks(rotation=90,fontsize=25)\n",
    "plt.show()"
   ]
  },
  {
   "cell_type": "markdown",
   "metadata": {},
   "source": [
    "The result from feature ablation using SVC with rbf kernal shows the same feature importance result as the Random Forest. Thus we can conlude the top 3 most important feature are 'total_day_minutes', 'number_customer_service_call', and 'total_eve_minutes'."
   ]
  },
  {
   "cell_type": "code",
   "execution_count": null,
   "metadata": {
    "collapsed": true
   },
   "outputs": [],
   "source": []
  }
 ],
 "metadata": {
  "kernelspec": {
   "display_name": "Python 2",
   "language": "python",
   "name": "python2"
  },
  "language_info": {
   "codemirror_mode": {
    "name": "ipython",
    "version": 2
   },
   "file_extension": ".py",
   "mimetype": "text/x-python",
   "name": "python",
   "nbconvert_exporter": "python",
   "pygments_lexer": "ipython2",
   "version": "2.7.14"
  }
 },
 "nbformat": 4,
 "nbformat_minor": 2
}
